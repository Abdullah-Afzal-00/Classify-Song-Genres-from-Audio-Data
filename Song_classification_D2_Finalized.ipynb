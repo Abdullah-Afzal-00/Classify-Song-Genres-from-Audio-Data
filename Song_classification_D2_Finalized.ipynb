{
 "cells": [
  {
   "cell_type": "markdown",
   "id": "4214cf45",
   "metadata": {},
   "source": [
    "# <center>Machine Learning Project</center><hr>"
   ]
  },
  {
   "cell_type": "markdown",
   "id": "8caf534e",
   "metadata": {},
   "source": [
    "# <center>Classifying Song Genres from Audio Data</center><hr>"
   ]
  },
  {
   "cell_type": "markdown",
   "id": "25784760",
   "metadata": {},
   "source": [
    "# <b>Group Members:\n",
    "- <b>Abdullah Afzal (BCSF20M501)\n",
    "- <b>Hafiz Nouman Yousaf (BCSF19M521)\n",
    "- <b>Daniyal Faysal (BCSF20M507)\n",
    "    \n",
    "<hr>"
   ]
  },
  {
   "cell_type": "markdown",
   "id": "9f018c9e",
   "metadata": {},
   "source": [
    "### Introduction\n",
    "In this project, our goal is to classify songs as either <b>'Hip-Hop' or 'Rock'</b> on the basis of multiple properries of music.<hr>\n",
    "\n",
    "### Dataset Overview\n",
    "We will be working with following two datasets compiled by <b>The Echo Nest:</b><br>\n",
    "<b>CSV Dataset:</b> Contains metadata information about songs, including title, artist, and number of listens.\n",
    "<br><b>JSON Dataset:</b> Includes musical features such as danceability and acousticness on a scale from -1 to 1.<hr>\n",
    "                            \n",
    "# Approach towards Problem\n",
    "\n",
    "### Data Preparation \n",
    "To proceed with the classification task, we will utilize the pandas library to create two separate DataFrames from the CSV and JSON files. These DataFrames will allow us to organize and manipulate the data effectively. We will then merge the DataFrames to create a merged dataset that combines both the features and labels (Hip-Hop or Rock) for classification.<hr>\n",
    "\n",
    "### Normalizing the feature data\n",
    "To simplify our models and reduce the number of features, we can use <b>Principal Component Analysis (PCA)</b> to identify the most influential features. </br>But before applying PCA, we normalize the features through standardization to ensure they have a mean of 0 and a standard deviation of 1.<hr>\n",
    "\n",
    "### Classification Algorithms\n",
    "Our merged dataset will serve as the input for training and evaluating machine learning algorithms. We will focus on two commonly used algorithms:\n",
    "\n",
    "<b>Decision Trees:</b> These algorithms create a model that predicts the class label based on the values of input features. They make decisions by splitting the dataset based on feature values.\n",
    "<br><b>Logistic Regression:</b> A widely used algorithm for binary classification, logistic regression models the relationship between the features and the probability of belonging to a particular class.<hr>\n",
    "\n",
    "### Conclusion so far\n",
    "By leveraging the merged dataset and employing decision trees and logistic regression, we aim to classify songs  as Hip-Hop or Rock based on their metadata and musical features with almost accuracy of <b>87%</b>.<hr> \n",
    "\n",
    "### Work to be done After D2\n",
    "</br>However, looking at our classification report, we can see that rock songs are fairly well classified, but hip-hop songs are disproportionately misclassified as rock songs. The concern is we have far more data points for the rock classification than for hip-hop, potentially skewing our model's ability to distinguish between classes. To tackle this problem we will do balancing of our data <hr>\n",
    "\n"
   ]
  },
  {
   "cell_type": "markdown",
   "id": "27c1f01d",
   "metadata": {},
   "source": [
    "# Data Loading and Merging"
   ]
  },
  {
   "cell_type": "code",
   "execution_count": 6,
   "id": "1e37117b",
   "metadata": {},
   "outputs": [
    {
     "name": "stdout",
     "output_type": "stream",
     "text": [
      "<class 'pandas.core.frame.DataFrame'>\n",
      "Int64Index: 4802 entries, 0 to 4801\n",
      "Data columns (total 10 columns):\n",
      " #   Column            Non-Null Count  Dtype  \n",
      "---  ------            --------------  -----  \n",
      " 0   track_id          4802 non-null   int64  \n",
      " 1   acousticness      4802 non-null   float64\n",
      " 2   danceability      4802 non-null   float64\n",
      " 3   energy            4802 non-null   float64\n",
      " 4   instrumentalness  4802 non-null   float64\n",
      " 5   liveness          4802 non-null   float64\n",
      " 6   speechiness       4802 non-null   float64\n",
      " 7   tempo             4802 non-null   float64\n",
      " 8   valence           4802 non-null   float64\n",
      " 9   genre_top         4802 non-null   object \n",
      "dtypes: float64(8), int64(1), object(1)\n",
      "memory usage: 412.7+ KB\n"
     ]
    }
   ],
   "source": [
    "import pandas as pd\n",
    "\n",
    "# Reading the CSV file containing track metadata, including genre labels\n",
    "tracks = pd.read_csv(\"datasets/fma-rock-vs-hiphop.csv\")\n",
    "\n",
    "# Reading the JSON file containing track metrics with features\n",
    "echonest_metrics = pd.read_json(\"datasets/echonest-metrics.json\")\n",
    "\n",
    "# Combining the relevant columns from track metadata and track metrics\n",
    "echo_tracks = echonest_metrics.merge(tracks[[\"track_id\", \"genre_top\"]], on=\"track_id\")\n",
    "\n",
    "# Displaying information about the resulting dataframe\n",
    "echo_tracks.info()"
   ]
  },
  {
   "cell_type": "markdown",
   "id": "c540e257",
   "metadata": {},
   "source": [
    "## Correlation Matrix Analysis\n",
    "<p>We typically want to avoid using variables that have strong correlations with each other.<br>\n",
    "Strong correlations between features should be avoided for simplicity, interpretability, and prevention of overfitting.</p>\n",
    "\n",
    "Examining correlation coefficients helps us understand the relationship between features:\n",
    "\n",
    "- Correlation coefficients range from -1 to 1.\n",
    "- value close to -1 indicates a strong negative correlation.\n",
    "- value close to 1 indicates a strong positive correlation.\n",
    "- value close to 0 indicates a weak or no correlation."
   ]
  },
  {
   "cell_type": "code",
   "execution_count": 7,
   "id": "63dbcfde",
   "metadata": {},
   "outputs": [
    {
     "data": {
      "text/html": [
       "<style type=\"text/css\">\n",
       "#T_6a8f9_row0_col0, #T_6a8f9_row1_col1, #T_6a8f9_row2_col2, #T_6a8f9_row3_col3, #T_6a8f9_row4_col4, #T_6a8f9_row5_col5, #T_6a8f9_row6_col6, #T_6a8f9_row7_col7, #T_6a8f9_row8_col8 {\n",
       "  background-color: #023858;\n",
       "  color: #f1f1f1;\n",
       "}\n",
       "#T_6a8f9_row0_col1, #T_6a8f9_row1_col0, #T_6a8f9_row1_col3, #T_6a8f9_row2_col5, #T_6a8f9_row2_col7, #T_6a8f9_row4_col2, #T_6a8f9_row4_col6, #T_6a8f9_row4_col8, #T_6a8f9_row6_col4 {\n",
       "  background-color: #fff7fb;\n",
       "  color: #000000;\n",
       "}\n",
       "#T_6a8f9_row0_col2 {\n",
       "  background-color: #d2d2e7;\n",
       "  color: #000000;\n",
       "}\n",
       "#T_6a8f9_row0_col3 {\n",
       "  background-color: #b5c4df;\n",
       "  color: #000000;\n",
       "}\n",
       "#T_6a8f9_row0_col4 {\n",
       "  background-color: #f5eef6;\n",
       "  color: #000000;\n",
       "}\n",
       "#T_6a8f9_row0_col5 {\n",
       "  background-color: #e9e5f1;\n",
       "  color: #000000;\n",
       "}\n",
       "#T_6a8f9_row0_col6, #T_6a8f9_row8_col3 {\n",
       "  background-color: #d1d2e6;\n",
       "  color: #000000;\n",
       "}\n",
       "#T_6a8f9_row0_col7, #T_6a8f9_row1_col7 {\n",
       "  background-color: #e1dfed;\n",
       "  color: #000000;\n",
       "}\n",
       "#T_6a8f9_row0_col8, #T_6a8f9_row3_col6 {\n",
       "  background-color: #dedcec;\n",
       "  color: #000000;\n",
       "}\n",
       "#T_6a8f9_row1_col2 {\n",
       "  background-color: #e0dded;\n",
       "  color: #000000;\n",
       "}\n",
       "#T_6a8f9_row1_col4, #T_6a8f9_row4_col1 {\n",
       "  background-color: #97b7d7;\n",
       "  color: #000000;\n",
       "}\n",
       "#T_6a8f9_row1_col5, #T_6a8f9_row2_col4 {\n",
       "  background-color: #f3edf5;\n",
       "  color: #000000;\n",
       "}\n",
       "#T_6a8f9_row1_col6, #T_6a8f9_row6_col1 {\n",
       "  background-color: #b8c6e0;\n",
       "  color: #000000;\n",
       "}\n",
       "#T_6a8f9_row1_col8 {\n",
       "  background-color: #e2dfee;\n",
       "  color: #000000;\n",
       "}\n",
       "#T_6a8f9_row2_col0, #T_6a8f9_row5_col0, #T_6a8f9_row5_col3 {\n",
       "  background-color: #bdc8e1;\n",
       "  color: #000000;\n",
       "}\n",
       "#T_6a8f9_row2_col1, #T_6a8f9_row6_col0, #T_6a8f9_row7_col0, #T_6a8f9_row7_col1 {\n",
       "  background-color: #d0d1e6;\n",
       "  color: #000000;\n",
       "}\n",
       "#T_6a8f9_row2_col3 {\n",
       "  background-color: #fbf3f9;\n",
       "  color: #000000;\n",
       "}\n",
       "#T_6a8f9_row2_col6 {\n",
       "  background-color: #80aed2;\n",
       "  color: #f1f1f1;\n",
       "}\n",
       "#T_6a8f9_row2_col8 {\n",
       "  background-color: #529bc7;\n",
       "  color: #f1f1f1;\n",
       "}\n",
       "#T_6a8f9_row3_col0, #T_6a8f9_row7_col3 {\n",
       "  background-color: #a7bddb;\n",
       "  color: #000000;\n",
       "}\n",
       "#T_6a8f9_row3_col1 {\n",
       "  background-color: #f5eff6;\n",
       "  color: #000000;\n",
       "}\n",
       "#T_6a8f9_row3_col2, #T_6a8f9_row7_col2 {\n",
       "  background-color: #fef6fa;\n",
       "  color: #000000;\n",
       "}\n",
       "#T_6a8f9_row3_col4 {\n",
       "  background-color: #c4cbe3;\n",
       "  color: #000000;\n",
       "}\n",
       "#T_6a8f9_row3_col5, #T_6a8f9_row5_col7 {\n",
       "  background-color: #dcdaeb;\n",
       "  color: #000000;\n",
       "}\n",
       "#T_6a8f9_row3_col7 {\n",
       "  background-color: #adc1dd;\n",
       "  color: #000000;\n",
       "}\n",
       "#T_6a8f9_row3_col8, #T_6a8f9_row4_col7 {\n",
       "  background-color: #d9d8ea;\n",
       "  color: #000000;\n",
       "}\n",
       "#T_6a8f9_row4_col0 {\n",
       "  background-color: #f4eef6;\n",
       "  color: #000000;\n",
       "}\n",
       "#T_6a8f9_row4_col3 {\n",
       "  background-color: #d2d3e7;\n",
       "  color: #000000;\n",
       "}\n",
       "#T_6a8f9_row4_col5 {\n",
       "  background-color: #fdf5fa;\n",
       "  color: #000000;\n",
       "}\n",
       "#T_6a8f9_row5_col1 {\n",
       "  background-color: #ced0e6;\n",
       "  color: #000000;\n",
       "}\n",
       "#T_6a8f9_row5_col2 {\n",
       "  background-color: #ede8f3;\n",
       "  color: #000000;\n",
       "}\n",
       "#T_6a8f9_row5_col4, #T_6a8f9_row6_col7 {\n",
       "  background-color: #dbdaeb;\n",
       "  color: #000000;\n",
       "}\n",
       "#T_6a8f9_row5_col6 {\n",
       "  background-color: #c0c9e2;\n",
       "  color: #000000;\n",
       "}\n",
       "#T_6a8f9_row5_col8 {\n",
       "  background-color: #e8e4f0;\n",
       "  color: #000000;\n",
       "}\n",
       "#T_6a8f9_row6_col2 {\n",
       "  background-color: #93b5d6;\n",
       "  color: #000000;\n",
       "}\n",
       "#T_6a8f9_row6_col3, #T_6a8f9_row6_col5 {\n",
       "  background-color: #eae6f1;\n",
       "  color: #000000;\n",
       "}\n",
       "#T_6a8f9_row6_col8 {\n",
       "  background-color: #bfc9e1;\n",
       "  color: #000000;\n",
       "}\n",
       "#T_6a8f9_row7_col4 {\n",
       "  background-color: #c5cce3;\n",
       "  color: #000000;\n",
       "}\n",
       "#T_6a8f9_row7_col5 {\n",
       "  background-color: #f0eaf4;\n",
       "  color: #000000;\n",
       "}\n",
       "#T_6a8f9_row7_col6 {\n",
       "  background-color: #c8cde4;\n",
       "  color: #000000;\n",
       "}\n",
       "#T_6a8f9_row7_col8 {\n",
       "  background-color: #d6d6e9;\n",
       "  color: #000000;\n",
       "}\n",
       "#T_6a8f9_row8_col0 {\n",
       "  background-color: #c6cce3;\n",
       "  color: #000000;\n",
       "}\n",
       "#T_6a8f9_row8_col1 {\n",
       "  background-color: #cdd0e5;\n",
       "  color: #000000;\n",
       "}\n",
       "#T_6a8f9_row8_col2 {\n",
       "  background-color: #4c99c5;\n",
       "  color: #f1f1f1;\n",
       "}\n",
       "#T_6a8f9_row8_col4 {\n",
       "  background-color: #efe9f3;\n",
       "  color: #000000;\n",
       "}\n",
       "#T_6a8f9_row8_col5 {\n",
       "  background-color: #f7f0f7;\n",
       "  color: #000000;\n",
       "}\n",
       "#T_6a8f9_row8_col6 {\n",
       "  background-color: #a5bddb;\n",
       "  color: #000000;\n",
       "}\n",
       "#T_6a8f9_row8_col7 {\n",
       "  background-color: #d3d4e7;\n",
       "  color: #000000;\n",
       "}\n",
       "</style>\n",
       "<table id=\"T_6a8f9\">\n",
       "  <thead>\n",
       "    <tr>\n",
       "      <th class=\"blank level0\" >&nbsp;</th>\n",
       "      <th id=\"T_6a8f9_level0_col0\" class=\"col_heading level0 col0\" >track_id</th>\n",
       "      <th id=\"T_6a8f9_level0_col1\" class=\"col_heading level0 col1\" >acousticness</th>\n",
       "      <th id=\"T_6a8f9_level0_col2\" class=\"col_heading level0 col2\" >danceability</th>\n",
       "      <th id=\"T_6a8f9_level0_col3\" class=\"col_heading level0 col3\" >energy</th>\n",
       "      <th id=\"T_6a8f9_level0_col4\" class=\"col_heading level0 col4\" >instrumentalness</th>\n",
       "      <th id=\"T_6a8f9_level0_col5\" class=\"col_heading level0 col5\" >liveness</th>\n",
       "      <th id=\"T_6a8f9_level0_col6\" class=\"col_heading level0 col6\" >speechiness</th>\n",
       "      <th id=\"T_6a8f9_level0_col7\" class=\"col_heading level0 col7\" >tempo</th>\n",
       "      <th id=\"T_6a8f9_level0_col8\" class=\"col_heading level0 col8\" >valence</th>\n",
       "    </tr>\n",
       "  </thead>\n",
       "  <tbody>\n",
       "    <tr>\n",
       "      <th id=\"T_6a8f9_level0_row0\" class=\"row_heading level0 row0\" >track_id</th>\n",
       "      <td id=\"T_6a8f9_row0_col0\" class=\"data row0 col0\" >1.000000</td>\n",
       "      <td id=\"T_6a8f9_row0_col1\" class=\"data row0 col1\" >-0.372282</td>\n",
       "      <td id=\"T_6a8f9_row0_col2\" class=\"data row0 col2\" >0.049454</td>\n",
       "      <td id=\"T_6a8f9_row0_col3\" class=\"data row0 col3\" >0.140703</td>\n",
       "      <td id=\"T_6a8f9_row0_col4\" class=\"data row0 col4\" >-0.275623</td>\n",
       "      <td id=\"T_6a8f9_row0_col5\" class=\"data row0 col5\" >0.048231</td>\n",
       "      <td id=\"T_6a8f9_row0_col6\" class=\"data row0 col6\" >-0.026995</td>\n",
       "      <td id=\"T_6a8f9_row0_col7\" class=\"data row0 col7\" >-0.025392</td>\n",
       "      <td id=\"T_6a8f9_row0_col8\" class=\"data row0 col8\" >0.010070</td>\n",
       "    </tr>\n",
       "    <tr>\n",
       "      <th id=\"T_6a8f9_level0_row1\" class=\"row_heading level0 row1\" >acousticness</th>\n",
       "      <td id=\"T_6a8f9_row1_col0\" class=\"data row1 col0\" >-0.372282</td>\n",
       "      <td id=\"T_6a8f9_row1_col1\" class=\"data row1 col1\" >1.000000</td>\n",
       "      <td id=\"T_6a8f9_row1_col2\" class=\"data row1 col2\" >-0.028954</td>\n",
       "      <td id=\"T_6a8f9_row1_col3\" class=\"data row1 col3\" >-0.281619</td>\n",
       "      <td id=\"T_6a8f9_row1_col4\" class=\"data row1 col4\" >0.194780</td>\n",
       "      <td id=\"T_6a8f9_row1_col5\" class=\"data row1 col5\" >-0.019991</td>\n",
       "      <td id=\"T_6a8f9_row1_col6\" class=\"data row1 col6\" >0.072204</td>\n",
       "      <td id=\"T_6a8f9_row1_col7\" class=\"data row1 col7\" >-0.026310</td>\n",
       "      <td id=\"T_6a8f9_row1_col8\" class=\"data row1 col8\" >-0.013841</td>\n",
       "    </tr>\n",
       "    <tr>\n",
       "      <th id=\"T_6a8f9_level0_row2\" class=\"row_heading level0 row2\" >danceability</th>\n",
       "      <td id=\"T_6a8f9_row2_col0\" class=\"data row2 col0\" >0.049454</td>\n",
       "      <td id=\"T_6a8f9_row2_col1\" class=\"data row2 col1\" >-0.028954</td>\n",
       "      <td id=\"T_6a8f9_row2_col2\" class=\"data row2 col2\" >1.000000</td>\n",
       "      <td id=\"T_6a8f9_row2_col3\" class=\"data row2 col3\" >-0.242032</td>\n",
       "      <td id=\"T_6a8f9_row2_col4\" class=\"data row2 col4\" >-0.255217</td>\n",
       "      <td id=\"T_6a8f9_row2_col5\" class=\"data row2 col5\" >-0.106584</td>\n",
       "      <td id=\"T_6a8f9_row2_col6\" class=\"data row2 col6\" >0.276206</td>\n",
       "      <td id=\"T_6a8f9_row2_col7\" class=\"data row2 col7\" >-0.242089</td>\n",
       "      <td id=\"T_6a8f9_row2_col8\" class=\"data row2 col8\" >0.473165</td>\n",
       "    </tr>\n",
       "    <tr>\n",
       "      <th id=\"T_6a8f9_level0_row3\" class=\"row_heading level0 row3\" >energy</th>\n",
       "      <td id=\"T_6a8f9_row3_col0\" class=\"data row3 col0\" >0.140703</td>\n",
       "      <td id=\"T_6a8f9_row3_col1\" class=\"data row3 col1\" >-0.281619</td>\n",
       "      <td id=\"T_6a8f9_row3_col2\" class=\"data row3 col2\" >-0.242032</td>\n",
       "      <td id=\"T_6a8f9_row3_col3\" class=\"data row3 col3\" >1.000000</td>\n",
       "      <td id=\"T_6a8f9_row3_col4\" class=\"data row3 col4\" >0.028238</td>\n",
       "      <td id=\"T_6a8f9_row3_col5\" class=\"data row3 col5\" >0.113331</td>\n",
       "      <td id=\"T_6a8f9_row3_col6\" class=\"data row3 col6\" >-0.109983</td>\n",
       "      <td id=\"T_6a8f9_row3_col7\" class=\"data row3 col7\" >0.195227</td>\n",
       "      <td id=\"T_6a8f9_row3_col8\" class=\"data row3 col8\" >0.038603</td>\n",
       "    </tr>\n",
       "    <tr>\n",
       "      <th id=\"T_6a8f9_level0_row4\" class=\"row_heading level0 row4\" >instrumentalness</th>\n",
       "      <td id=\"T_6a8f9_row4_col0\" class=\"data row4 col0\" >-0.275623</td>\n",
       "      <td id=\"T_6a8f9_row4_col1\" class=\"data row4 col1\" >0.194780</td>\n",
       "      <td id=\"T_6a8f9_row4_col2\" class=\"data row4 col2\" >-0.255217</td>\n",
       "      <td id=\"T_6a8f9_row4_col3\" class=\"data row4 col3\" >0.028238</td>\n",
       "      <td id=\"T_6a8f9_row4_col4\" class=\"data row4 col4\" >1.000000</td>\n",
       "      <td id=\"T_6a8f9_row4_col5\" class=\"data row4 col5\" >-0.091022</td>\n",
       "      <td id=\"T_6a8f9_row4_col6\" class=\"data row4 col6\" >-0.366762</td>\n",
       "      <td id=\"T_6a8f9_row4_col7\" class=\"data row4 col7\" >0.022215</td>\n",
       "      <td id=\"T_6a8f9_row4_col8\" class=\"data row4 col8\" >-0.219967</td>\n",
       "    </tr>\n",
       "    <tr>\n",
       "      <th id=\"T_6a8f9_level0_row5\" class=\"row_heading level0 row5\" >liveness</th>\n",
       "      <td id=\"T_6a8f9_row5_col0\" class=\"data row5 col0\" >0.048231</td>\n",
       "      <td id=\"T_6a8f9_row5_col1\" class=\"data row5 col1\" >-0.019991</td>\n",
       "      <td id=\"T_6a8f9_row5_col2\" class=\"data row5 col2\" >-0.106584</td>\n",
       "      <td id=\"T_6a8f9_row5_col3\" class=\"data row5 col3\" >0.113331</td>\n",
       "      <td id=\"T_6a8f9_row5_col4\" class=\"data row5 col4\" >-0.091022</td>\n",
       "      <td id=\"T_6a8f9_row5_col5\" class=\"data row5 col5\" >1.000000</td>\n",
       "      <td id=\"T_6a8f9_row5_col6\" class=\"data row5 col6\" >0.041173</td>\n",
       "      <td id=\"T_6a8f9_row5_col7\" class=\"data row5 col7\" >0.002732</td>\n",
       "      <td id=\"T_6a8f9_row5_col8\" class=\"data row5 col8\" >-0.045093</td>\n",
       "    </tr>\n",
       "    <tr>\n",
       "      <th id=\"T_6a8f9_level0_row6\" class=\"row_heading level0 row6\" >speechiness</th>\n",
       "      <td id=\"T_6a8f9_row6_col0\" class=\"data row6 col0\" >-0.026995</td>\n",
       "      <td id=\"T_6a8f9_row6_col1\" class=\"data row6 col1\" >0.072204</td>\n",
       "      <td id=\"T_6a8f9_row6_col2\" class=\"data row6 col2\" >0.276206</td>\n",
       "      <td id=\"T_6a8f9_row6_col3\" class=\"data row6 col3\" >-0.109983</td>\n",
       "      <td id=\"T_6a8f9_row6_col4\" class=\"data row6 col4\" >-0.366762</td>\n",
       "      <td id=\"T_6a8f9_row6_col5\" class=\"data row6 col5\" >0.041173</td>\n",
       "      <td id=\"T_6a8f9_row6_col6\" class=\"data row6 col6\" >1.000000</td>\n",
       "      <td id=\"T_6a8f9_row6_col7\" class=\"data row6 col7\" >0.008241</td>\n",
       "      <td id=\"T_6a8f9_row6_col8\" class=\"data row6 col8\" >0.149894</td>\n",
       "    </tr>\n",
       "    <tr>\n",
       "      <th id=\"T_6a8f9_level0_row7\" class=\"row_heading level0 row7\" >tempo</th>\n",
       "      <td id=\"T_6a8f9_row7_col0\" class=\"data row7 col0\" >-0.025392</td>\n",
       "      <td id=\"T_6a8f9_row7_col1\" class=\"data row7 col1\" >-0.026310</td>\n",
       "      <td id=\"T_6a8f9_row7_col2\" class=\"data row7 col2\" >-0.242089</td>\n",
       "      <td id=\"T_6a8f9_row7_col3\" class=\"data row7 col3\" >0.195227</td>\n",
       "      <td id=\"T_6a8f9_row7_col4\" class=\"data row7 col4\" >0.022215</td>\n",
       "      <td id=\"T_6a8f9_row7_col5\" class=\"data row7 col5\" >0.002732</td>\n",
       "      <td id=\"T_6a8f9_row7_col6\" class=\"data row7 col6\" >0.008241</td>\n",
       "      <td id=\"T_6a8f9_row7_col7\" class=\"data row7 col7\" >1.000000</td>\n",
       "      <td id=\"T_6a8f9_row7_col8\" class=\"data row7 col8\" >0.052221</td>\n",
       "    </tr>\n",
       "    <tr>\n",
       "      <th id=\"T_6a8f9_level0_row8\" class=\"row_heading level0 row8\" >valence</th>\n",
       "      <td id=\"T_6a8f9_row8_col0\" class=\"data row8 col0\" >0.010070</td>\n",
       "      <td id=\"T_6a8f9_row8_col1\" class=\"data row8 col1\" >-0.013841</td>\n",
       "      <td id=\"T_6a8f9_row8_col2\" class=\"data row8 col2\" >0.473165</td>\n",
       "      <td id=\"T_6a8f9_row8_col3\" class=\"data row8 col3\" >0.038603</td>\n",
       "      <td id=\"T_6a8f9_row8_col4\" class=\"data row8 col4\" >-0.219967</td>\n",
       "      <td id=\"T_6a8f9_row8_col5\" class=\"data row8 col5\" >-0.045093</td>\n",
       "      <td id=\"T_6a8f9_row8_col6\" class=\"data row8 col6\" >0.149894</td>\n",
       "      <td id=\"T_6a8f9_row8_col7\" class=\"data row8 col7\" >0.052221</td>\n",
       "      <td id=\"T_6a8f9_row8_col8\" class=\"data row8 col8\" >1.000000</td>\n",
       "    </tr>\n",
       "  </tbody>\n",
       "</table>\n"
      ],
      "text/plain": [
       "<pandas.io.formats.style.Styler at 0x1f26ea45220>"
      ]
     },
     "execution_count": 7,
     "metadata": {},
     "output_type": "execute_result"
    }
   ],
   "source": [
    "# Creating correlation matrix\n",
    "corr_metrics = echo_tracks.corr()\n",
    "corr_metrics.style.background_gradient()\n"
   ]
  },
  {
   "cell_type": "markdown",
   "id": "310efa45",
   "metadata": {},
   "source": [
    "## Train-Test Split for Classification\n",
    "Since we didn't find any particularly strong correlations between our features, we split our data into training and testing sets using the train_test_split function from scikit-learn. The features and labels are assigned to separate arrays, and the data is divided with a specified test size and random state."
   ]
  },
  {
   "cell_type": "code",
   "execution_count": 8,
   "id": "072c9d60",
   "metadata": {},
   "outputs": [],
   "source": [
    "from sklearn.model_selection import train_test_split\n",
    "\n",
    "# Creating the feature matrix\n",
    "features = echo_tracks.drop([\"genre_top\" ,\"track_id\" ] , axis = 1)\n",
    "\n",
    "# Creating labels\n",
    "labels = echo_tracks[[\"genre_top\"]]\n",
    "\n",
    "# Splitting the data into training and testing sets\n",
    "train_features, test_features, train_labels, test_labels = train_test_split(features,labels,test_size=0.2,random_state=10)"
   ]
  },
  {
   "cell_type": "markdown",
   "id": "cd02297a",
   "metadata": {},
   "source": [
    "## Normalizing the feature data\n",
    "<p>We want to reduce the number of features and will will apply PCA for this but it's essential to normalize the features before applying PCA to avoid bias caused by features with broader value ranges. \n",
    "<br>Hence we will use <b>Standardization</b>, a common method for normalization, which converts features to have a mean of 0 and standard deviation of 1 (z-score)</p>"
   ]
  },
  {
   "cell_type": "code",
   "execution_count": 9,
   "id": "70e995b8",
   "metadata": {},
   "outputs": [],
   "source": [
    "from sklearn.preprocessing  import StandardScaler\n",
    "\n",
    "# Scale the features and set the values to a new variable\n",
    "scaler = StandardScaler()\n",
    "\n",
    "# Scale train_features and test_features\n",
    "scaled_train_features = scaler.fit_transform(train_features)\n",
    "scaled_test_features = scaler.transform(test_features)"
   ]
  },
  {
   "cell_type": "markdown",
   "id": "05731e90",
   "metadata": {},
   "source": [
    "## Principal Component Analysis on our scaled data\n",
    "<p>Now that we have preprocessed our data, we are ready to use PCA to determine by how much we can reduce the dimensionality of our data. We can use visualizations like <b>scree-plots</b> and <b>cumulative explained ratio plots</b> to find the number of components to use in further analyses.</p>\n",
    "<br><p>We are using <b>scree-plots</b> visualization here</p>\n"
   ]
  },
  {
   "cell_type": "code",
   "execution_count": 24,
   "id": "4af7321e",
   "metadata": {
    "scrolled": false
   },
   "outputs": [
    {
     "data": {
      "text/plain": [
       "Text(0.5, 0, 'Principal Component #')"
      ]
     },
     "execution_count": 24,
     "metadata": {},
     "output_type": "execute_result"
    },
    {
     "data": {
      "image/png": "[encoded data removed]",
      "text/plain": [
       "<Figure size 640x480 with 1 Axes>"
      ]
     },
     "metadata": {},
     "output_type": "display_data"
    }
   ],
   "source": [
    "# This is just to make plots appear in the notebook\n",
    "%matplotlib inline\n",
    "\n",
    "# Import our plotting module, and PCA class\n",
    "import matplotlib.pyplot as plt\n",
    "from sklearn.decomposition import PCA\n",
    "\n",
    "# Get our explained variance ratios from PCA using all features\n",
    "pca = PCA()\n",
    "pca.fit(scaled_train_features)\n",
    "exp_variance = pca.explained_variance_ratio_\n",
    "\n",
    "# plot the explained variance using a barplot\n",
    "fig, ax = plt.subplots()\n",
    "ax.bar(range(1, len(exp_variance) + 1), exp_variance)\n",
    "ax.set_xlabel('Principal Component #')"
   ]
  },
  {
   "cell_type": "markdown",
   "id": "349aa158",
   "metadata": {},
   "source": [
    "## Further visualization of PCA \n",
    "<p>From the above graph we can clearly see that there does not appear to be a clear elbow in this scree plot, which means it is not straightforward to find the number of intrinsic dimensions using this method. </p>\n",
    "<p>Now we will use <b>cumulative explained variance plot</b> to determine how many features are required to explain, say, about 85% of the variance.<br>Once we determine the appropriate number of components, we can perform PCA with that many components, ideally reducing the dimensionality of our data.</p>"
   ]
  },
  {
   "cell_type": "code",
   "execution_count": 16,
   "id": "4571d11f",
   "metadata": {},
   "outputs": [
    {
     "data": {
      "text/plain": [
       "<matplotlib.lines.Line2D at 0x1c52257c400>"
      ]
     },
     "execution_count": 16,
     "metadata": {},
     "output_type": "execute_result"
    },
    {
     "data": {
      "image/png": "[encoded data removed]",
      "text/plain": [
       "<Figure size 640x480 with 1 Axes>"
      ]
     },
     "metadata": {},
     "output_type": "display_data"
    }
   ],
   "source": [
    "import numpy as np\n",
    "\n",
    "# Calculate the cumulative explained variance\n",
    "cum_exp_variance = np.cumsum(exp_variance)\n",
    "\n",
    "# Plot the cumulative explained variance and draw a dashed line at 0.85.\n",
    "fig, ax = plt.subplots()\n",
    "ax.plot(cum_exp_variance)\n",
    "ax.axhline(y=0.85, linestyle='--')"
   ]
  },
  {
   "cell_type": "markdown",
   "id": "ff07223b",
   "metadata": {},
   "source": [
    "## Projecting on to our features\n",
    "<p>We saw from the plot that 6 features (remember indexing starts at 0) can explain 85% of the variance! </p>\n",
    "<p>Therefore, we can use 6 components to perform PCA and reduce the dimensionality of our train and test features.</p>"
   ]
  },
  {
   "cell_type": "code",
   "execution_count": 17,
   "id": "e07ae291",
   "metadata": {},
   "outputs": [],
   "source": [
    "# Perform PCA with the chosen number of components and project data onto components\n",
    "pca = PCA(n_components = 6 , random_state = 10)\n",
    "\n",
    "# Fit and transform the scaled training features using pca\n",
    "train_pca = pca.fit_transform(scaled_train_features)\n",
    "\n",
    "# Fit and transform the scaled test features using pca\n",
    "test_pca = pca.transform(scaled_test_features)"
   ]
  },
  {
   "cell_type": "markdown",
   "id": "c6f6f00c",
   "metadata": {},
   "source": [
    "## Train a decision tree to classify genre\n",
    "<p>Now we can use the lower dimensional PCA projection of the data to classify songs into genres.Here, we will be using a simple algorithm known as a <b>decision tree</b>. Decision trees are rule-based classifiers that take in features and follow a 'tree structure' of binary decisions to ultimately classify a data point into one of two or more categories.</p>"
   ]
  },
  {
   "cell_type": "code",
   "execution_count": 18,
   "id": "ca64dfa9",
   "metadata": {},
   "outputs": [],
   "source": [
    "from sklearn.tree import DecisionTreeClassifier\n",
    "\n",
    "# Train our decision tree\n",
    "tree = DecisionTreeClassifier(random_state = 10)\n",
    "tree.fit(train_pca , train_labels)\n",
    "\n",
    "# Predict the labels for the test data\n",
    "pred_labels_tree = tree.predict(test_pca)"
   ]
  },
  {
   "cell_type": "markdown",
   "id": "f272eda7",
   "metadata": {},
   "source": [
    "## Compare our decision tree to a logistic regression\n",
    "<p>Our tree model's performance is decent, but we will try another model to check how better other model can perform on this data </p>\n",
    "<p>We will apply <b>logistic regression</b> on the data. As Logistic Regression is a simple model and sometimes simple models do better job than the complex ones. Once we have results from both models, we can compare them on a few performance metrics, such as false positive and false negative rate. </p>"
   ]
  },
  {
   "cell_type": "code",
   "execution_count": 19,
   "id": "02ac705f",
   "metadata": {
    "scrolled": true
   },
   "outputs": [
    {
     "name": "stdout",
     "output_type": "stream",
     "text": [
      "Decision Tree: \n",
      "               precision    recall  f1-score   support\n",
      "\n",
      "     Hip-Hop       0.65      0.65      0.65       188\n",
      "        Rock       0.91      0.91      0.91       773\n",
      "\n",
      "    accuracy                           0.86       961\n",
      "   macro avg       0.78      0.78      0.78       961\n",
      "weighted avg       0.86      0.86      0.86       961\n",
      "\n",
      "Logistic Regression: \n",
      "               precision    recall  f1-score   support\n",
      "\n",
      "     Hip-Hop       0.79      0.55      0.65       188\n",
      "        Rock       0.90      0.97      0.93       773\n",
      "\n",
      "    accuracy                           0.88       961\n",
      "   macro avg       0.85      0.76      0.79       961\n",
      "weighted avg       0.88      0.88      0.87       961\n",
      "\n"
     ]
    }
   ],
   "source": [
    "from sklearn.linear_model import LogisticRegression\n",
    "\n",
    "# Train our logistic regression and predict labels for the test set\n",
    "logreg = LogisticRegression(random_state = 10)\n",
    "logreg.fit(train_pca , train_labels.values.ravel())\n",
    "pred_labels_logit = logreg.predict(test_pca)\n",
    "\n",
    "# Create the classification report for both models\n",
    "from sklearn.metrics import classification_report\n",
    "class_rep_tree = classification_report(test_labels,pred_labels_tree)\n",
    "class_rep_log = classification_report(test_labels,pred_labels_logit)\n",
    "\n",
    "print(\"Decision Tree: \\n\", class_rep_tree)\n",
    "print(\"Logistic Regression: \\n\", class_rep_log)"
   ]
  },
  {
   "cell_type": "markdown",
   "id": "14f04d8c",
   "metadata": {},
   "source": [
    "# What to do further\n",
    "\n",
    "<p>Both our models do similarly well, boasting an average accuracy of <b>87%</b> each, however, looking at our classification report, we can see that rock songs are fairly well classified, but hip-hop songs are disproportionately misclassified as rock songs. The concern is we have far more data points for the rock classification than for hip-hop, potentially skewing our model's ability to distinguish between classes. To tackle this problem we will do balancing of our data.</p>"
   ]
  },
  {
   "cell_type": "code",
   "execution_count": null,
   "id": "4c36e96c",
   "metadata": {},
   "outputs": [],
   "source": []
  }
 ],
 "metadata": {
  "kernelspec": {
   "display_name": "Python 3 (ipykernel)",
   "language": "python",
   "name": "python3"
  },
  "language_info": {
   "codemirror_mode": {
    "name": "ipython",
    "version": 3
   },
   "file_extension": ".py",
   "mimetype": "text/x-python",
   "name": "python",
   "nbconvert_exporter": "python",
   "pygments_lexer": "ipython3",
   "version": "3.9.13"
  }
 },
 "nbformat": 4,
 "nbformat_minor": 5
}
